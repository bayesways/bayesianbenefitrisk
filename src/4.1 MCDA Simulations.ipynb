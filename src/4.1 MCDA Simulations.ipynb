{
 "cells": [
  {
   "cell_type": "code",
   "execution_count": 1,
   "metadata": {},
   "outputs": [
    {
     "data": {
      "text/plain": [
       "DataTransformerRegistry.enable('default')"
      ]
     },
     "execution_count": 1,
     "metadata": {},
     "output_type": "execute_result"
    }
   ],
   "source": [
    "import pandas as pd\n",
    "import numpy as np\n",
    "from codebase.file_utils import (\n",
    "    save_obj,\n",
    "    load_obj,\n",
    ")\n",
    "from codebase.plot import plot_density, plot_histogram, plot_line, get_post_df\n",
    "from codebase.mcda_simulation import compute_results\n",
    "from codebase.post_process import remove_cn_dimension\n",
    "import altair as alt\n",
    "from codebase.classes_data import Data\n",
    "from codebase.file_utils import (\n",
    "    save_obj,\n",
    "    load_obj,\n",
    "    make_folder,\n",
    "    path_backslash\n",
    ")\n",
    "from pdb import set_trace\n",
    "\n",
    "alt.data_transformers.disable_max_rows()\n"
   ]
  },
  {
   "cell_type": "code",
   "execution_count": 3,
   "metadata": {},
   "outputs": [],
   "source": [
    "log_dir1 = 'log/smc-sim/20210425_100410_mcmc_sim_ppp_1_4_d0_cor1//'\n",
    "exp_data1 = load_obj( 'group_data', log_dir1)\n",
    "mcmcps = load_obj('ps_all_groups', log_dir1)\n",
    "\n",
    "for name in mcmcps.keys():\n",
    "    mcmcps[name] = remove_cn_dimension(mcmcps[name])\n",
    "    \n",
    "\n",
    "# for i in range(mcmcps['beta_b'].shape[0]):\n",
    "#     mcmcps['beta_b'][i] = np.sign(mcmcps['beta_b'][i,0]) * mcmcps['beta_b'][i]\n",
    "    \n",
    "# mcmcps_beta = np.zeros((mcmcps['beta_b'].shape[0], 6, 2))\n",
    "# for i in  range(mcmcps['beta_b'].shape[0]):\n",
    "#     mcmcps_beta[i,0,0] = 1.\n",
    "#     mcmcps_beta[i,1,0] = mcmcps['beta1'][i]\n",
    "#     mcmcps_beta[i,2:,1] = mcmcps['beta_b'][i]    \n",
    "# mcmcps['beta'] = mcmcps_beta"
   ]
  },
  {
   "cell_type": "code",
   "execution_count": 4,
   "metadata": {},
   "outputs": [
    {
     "name": "stdout",
     "output_type": "stream",
     "text": [
      "\n",
      "Population Score\n",
      "Grp0 < Grp1 0.196\n"
     ]
    },
    {
     "name": "stderr",
     "output_type": "stream",
     "text": [
      "/home/konstantinos/anaconda3/envs/pystan-dev/lib/python3.7/site-packages/scipy/stats/_multivariate.py:660: RuntimeWarning: covariance is not positive-semidefinite.\n",
      "  out = random_state.multivariate_normal(mean, cov, size)\n"
     ]
    },
    {
     "name": "stdout",
     "output_type": "stream",
     "text": [
      "\n",
      "Individual Score\n",
      "Grp0 < Grp1 0.447\n"
     ]
    }
   ],
   "source": [
    "compute_results(mcmcps)"
   ]
  },
  {
   "cell_type": "code",
   "execution_count": 7,
   "metadata": {},
   "outputs": [
    {
     "name": "stdout",
     "output_type": "stream",
     "text": [
      "359\n"
     ]
    }
   ],
   "source": [
    "log_dir3 = 'log/smc-sim/20210425_100507_smc_sim//'\n",
    "# exp_data3 = load_obj('data', log_dir3)\n",
    "t = load_obj('t', log_dir3)\n",
    "print(t)\n"
   ]
  },
  {
   "cell_type": "code",
   "execution_count": 11,
   "metadata": {
    "scrolled": true
   },
   "outputs": [],
   "source": [
    "particles = load_obj('particles', log_dir3)\n"
   ]
  },
  {
   "cell_type": "code",
   "execution_count": 12,
   "metadata": {},
   "outputs": [
    {
     "data": {
      "text/plain": [
       "33"
      ]
     },
     "execution_count": 12,
     "metadata": {},
     "output_type": "execute_result"
    }
   ],
   "source": [
    "particles.get_threshold_ess_indicator().sum()"
   ]
  },
  {
   "cell_type": "code",
   "execution_count": 13,
   "metadata": {},
   "outputs": [],
   "source": [
    "particles.resample_particles()\n",
    "smcps = particles.particles"
   ]
  },
  {
   "cell_type": "code",
   "execution_count": 14,
   "metadata": {},
   "outputs": [
    {
     "name": "stdout",
     "output_type": "stream",
     "text": [
      "\n",
      "Population Score\n",
      "Grp0 < Grp1 0.275\n",
      "\n",
      "Individual Score\n",
      "Grp0 < Grp1 0.485\n"
     ]
    },
    {
     "name": "stderr",
     "output_type": "stream",
     "text": [
      "/home/konstantinos/anaconda3/envs/pystan-dev/lib/python3.7/site-packages/scipy/stats/_multivariate.py:660: RuntimeWarning: covariance is not positive-semidefinite.\n",
      "  out = random_state.multivariate_normal(mean, cov, size)\n"
     ]
    }
   ],
   "source": [
    "compute_results(smcps)"
   ]
  }
 ],
 "metadata": {
  "kernelspec": {
   "display_name": "Python 3",
   "language": "python",
   "name": "python3"
  },
  "language_info": {
   "codemirror_mode": {
    "name": "ipython",
    "version": 3
   },
   "file_extension": ".py",
   "mimetype": "text/x-python",
   "name": "python",
   "nbconvert_exporter": "python",
   "pygments_lexer": "ipython3",
   "version": "3.7.6"
  }
 },
 "nbformat": 4,
 "nbformat_minor": 2
}
