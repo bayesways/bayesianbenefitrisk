{
 "cells": [
  {
   "cell_type": "code",
   "execution_count": 1,
   "metadata": {},
   "outputs": [
    {
     "data": {
      "text/plain": [
       "DataTransformerRegistry.enable('default')"
      ]
     },
     "execution_count": 1,
     "metadata": {},
     "output_type": "execute_result"
    }
   ],
   "source": [
    "import pandas as pd\n",
    "import numpy as np\n",
    "from codebase.file_utils import (\n",
    "    save_obj,\n",
    "    load_obj,\n",
    ")\n",
    "from codebase.plot import plot_density, plot_histogram, plot_line, get_post_df\n",
    "from codebase.real_data_fit import compute_results\n",
    "from codebase.post_process import remove_cn_dimension\n",
    "import altair as alt\n",
    "from codebase.classes_data import Data\n",
    "from codebase.file_utils import (\n",
    "    save_obj,\n",
    "    load_obj,\n",
    "    make_folder,\n",
    "    path_backslash\n",
    ")\n",
    "from pdb import set_trace\n",
    "\n",
    "alt.data_transformers.disable_max_rows()\n"
   ]
  },
  {
   "cell_type": "code",
   "execution_count": 2,
   "metadata": {},
   "outputs": [],
   "source": [
    "log_dir1 = 'log/todata/'\n",
    "exp_data1 = load_obj( 'group_data', log_dir1)\n",
    "mcmcps = load_obj('ps_all_groups', log_dir1)\n",
    "\n",
    "for name in mcmcps.keys():\n",
    "    mcmcps[name] = remove_cn_dimension(mcmcps[name])"
   ]
  },
  {
   "cell_type": "code",
   "execution_count": 3,
   "metadata": {},
   "outputs": [
    {
     "name": "stdout",
     "output_type": "stream",
     "text": [
      "\n",
      "Population Score\n",
      "\n",
      "\n",
      " P(AVM < MET) = 0.00\n",
      " P(AVM < RSG) = 0.00\n",
      " P(MET < RSG) = 0.34\n",
      "\n",
      "Individual Score\n",
      "\n",
      "\n",
      " P(AVM < MET) = 0.40\n",
      " P(AVM < RSG) = 0.39\n",
      " P(MET < RSG) = 0.50\n"
     ]
    }
   ],
   "source": [
    "compute_results(mcmcps)"
   ]
  },
  {
   "cell_type": "code",
   "execution_count": null,
   "metadata": {},
   "outputs": [],
   "source": []
  }
 ],
 "metadata": {
  "kernelspec": {
   "display_name": "Python 3",
   "language": "python",
   "name": "python3"
  },
  "language_info": {
   "codemirror_mode": {
    "name": "ipython",
    "version": 3
   },
   "file_extension": ".py",
   "mimetype": "text/x-python",
   "name": "python",
   "nbconvert_exporter": "python",
   "pygments_lexer": "ipython3",
   "version": "3.7.6"
  }
 },
 "nbformat": 4,
 "nbformat_minor": 2
}
