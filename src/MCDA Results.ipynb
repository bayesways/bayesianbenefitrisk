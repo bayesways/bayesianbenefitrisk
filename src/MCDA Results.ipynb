{
 "cells": [
  {
   "cell_type": "code",
   "execution_count": 1,
   "metadata": {},
   "outputs": [],
   "source": [
    "import pandas as pd\n",
    "import numpy as np\n",
    "from codebase.file_utils import (\n",
    "    save_obj,\n",
    "    load_obj,\n",
    ")\n",
    "from codebase.plot import plot_density, plot_histogram, plot_line, get_post_df\n",
    "from codebase.real_data_fit import compute_results\n",
    "from codebase.post_process import remove_cn_dimension\n",
    "import altair as alt\n",
    "from codebase.classes_data import Data\n",
    "from codebase.file_utils import (\n",
    "    save_obj,\n",
    "    load_obj,\n",
    "    make_folder,\n",
    "    path_backslash\n",
    ")\n",
    "from pdb import set_trace\n",
    "\n",
    "alt.data_transformers.disable_max_rows()\n",
    "\n",
    "%load_ext autoreload\n",
    "%autoreload 2"
   ]
  },
  {
   "cell_type": "markdown",
   "metadata": {},
   "source": [
    "## Load off-line model results"
   ]
  },
  {
   "cell_type": "code",
   "execution_count": 2,
   "metadata": {},
   "outputs": [],
   "source": [
    "log_dir1 = 'log/20220504_110651___1_ppp_1/'\n",
    "exp_data1 = load_obj( 'group_data', log_dir1)\n",
    "mcmcps = load_obj('ps_all_groups', log_dir1)\n",
    "\n",
    "for name in mcmcps.keys():\n",
    "    mcmcps[name] = remove_cn_dimension(mcmcps[name])"
   ]
  },
  {
   "cell_type": "code",
   "execution_count": 3,
   "metadata": {},
   "outputs": [
    {
     "data": {
      "text/plain": [
       "dict_keys(['grp', 'K', 'Kc', 'Kb', 'y', 'N', 'number_of_groups'])"
      ]
     },
     "execution_count": 3,
     "metadata": {},
     "output_type": "execute_result"
    }
   ],
   "source": [
    "exp_data1.keys()"
   ]
  },
  {
   "cell_type": "code",
   "execution_count": 4,
   "metadata": {},
   "outputs": [
    {
     "name": "stdout",
     "output_type": "stream",
     "text": [
      "\n",
      "Population Score\n",
      "\n",
      "\n",
      " P(AVM < MET) = 0.00\n",
      " P(AVM < RSG) = 0.00\n",
      " P(MET < RSG) = 0.88\n"
     ]
    }
   ],
   "source": [
    "compute_results(mcmcps)"
   ]
  },
  {
   "cell_type": "markdown",
   "metadata": {},
   "source": [
    "## Load sequential model results"
   ]
  },
  {
   "cell_type": "code",
   "execution_count": 5,
   "metadata": {},
   "outputs": [
    {
     "name": "stdout",
     "output_type": "stream",
     "text": [
      "47\n"
     ]
    }
   ],
   "source": [
    "log_dir3 = 'log/20220504_160332_seqtest/'\n",
    "t = load_obj('t', log_dir3)\n",
    "print(t)\n"
   ]
  },
  {
   "cell_type": "code",
   "execution_count": 6,
   "metadata": {
    "scrolled": true
   },
   "outputs": [
    {
     "name": "stderr",
     "output_type": "stream",
     "text": [
      "WARNING:pystan:numpy.ndarray size changed, may indicate binary incompatibility. Expected 88 from C header, got 80 from PyObject\n",
      "WARNING:pystan:Something went wrong while unpickling the StanModel. Consider recompiling.\n",
      "WARNING:pystan:numpy.ndarray size changed, may indicate binary incompatibility. Expected 88 from C header, got 80 from PyObject\n",
      "WARNING:pystan:Something went wrong while unpickling the StanModel. Consider recompiling.\n"
     ]
    }
   ],
   "source": [
    "particles = load_obj('particles', log_dir3)\n",
    "particles.resample_particles()\n",
    "smcps = particles.particles.copy()\n",
    "ps = smcps.copy()\n",
    "ps['beta'] = np.zeros((smcps['beta_b'].shape[0],3,6,2))\n",
    "ps['beta_c'] = np.zeros((smcps['beta_b'].shape[0],3,2,2))\n",
    "ps['beta_b'] = np.zeros((smcps['beta_b'].shape[0],3,4,2))\n",
    "\n",
    "ps['Marg_cov_cont'] = np.zeros((smcps['Marg_cov_cont'].shape[0],3,2,2))\n",
    "for i in range(ps['Marg_cov_cont'].shape[0]):\n",
    "    for j in range(3):\n",
    "        ps['Marg_cov_cont'][i,j] = smcps['Marg_cov_cont'][i]\n",
    "\n"
   ]
  },
  {
   "cell_type": "code",
   "execution_count": 7,
   "metadata": {},
   "outputs": [
    {
     "name": "stdout",
     "output_type": "stream",
     "text": [
      "\n",
      "Population Score\n",
      "\n",
      "\n",
      " P(AVM < MET) = 0.00\n",
      " P(AVM < RSG) = 0.20\n",
      " P(MET < RSG) = 1.00\n"
     ]
    }
   ],
   "source": [
    "compute_results(ps)"
   ]
  },
  {
   "cell_type": "markdown",
   "metadata": {},
   "source": [
    "## Sequential MCDA scores"
   ]
  },
  {
   "cell_type": "code",
   "execution_count": 8,
   "metadata": {},
   "outputs": [
    {
     "data": {
      "text/plain": [
       "array([[[55.37508546, 49.8366781 , 49.64322676],\n",
       "        [54.69672199, 49.57075818, 49.73936863],\n",
       "        [54.69760269, 49.57026376, 49.73774709],\n",
       "        ...,\n",
       "        [54.83424431, 48.14217815, 49.88356307],\n",
       "        [54.35305084, 49.76762221, 49.96429464],\n",
       "        [53.45795987, 48.65855671, 51.32444839]],\n",
       "\n",
       "       [[55.37396188, 49.84069777, 49.63873171],\n",
       "        [52.55310459, 49.74861435, 49.97384758],\n",
       "        [53.80370732, 50.20502037, 49.78603117],\n",
       "        ...,\n",
       "        [54.8338479 , 48.14494891, 49.87863477],\n",
       "        [54.59955671, 50.81151716, 50.18590895],\n",
       "        [54.60662404, 50.82282035, 50.17732036]],\n",
       "\n",
       "       [[52.55468238, 49.7450822 , 49.97958774],\n",
       "        [52.55263327, 49.7479184 , 49.97952163],\n",
       "        [54.86700359, 49.89973826, 50.13098994],\n",
       "        ...,\n",
       "        [54.35441308, 49.76700441, 49.96192509],\n",
       "        [54.59409504, 50.81709126, 50.18474451],\n",
       "        [54.60085288, 50.82232344, 50.18089883]],\n",
       "\n",
       "       ...,\n",
       "\n",
       "       [[56.93217711, 43.92915345, 52.25890646],\n",
       "        [56.61214503, 50.29070849, 52.8785595 ],\n",
       "        [56.6125038 , 50.29646029, 52.88489017],\n",
       "        ...,\n",
       "        [60.95305063, 47.76697142, 56.33348806],\n",
       "        [60.96353533, 47.76138465, 56.32785578],\n",
       "        [60.97021407, 47.75756624, 56.32425247]],\n",
       "\n",
       "       [[56.61143544, 50.29651529, 52.88362692],\n",
       "        [55.56285091, 48.20167147, 56.99579426],\n",
       "        [55.55407078, 48.1970655 , 56.99348037],\n",
       "        ...,\n",
       "        [57.46779486, 48.4737563 , 47.17383744],\n",
       "        [60.96500394, 47.79009872, 56.32393488],\n",
       "        [60.95895058, 47.78400387, 56.32033107]],\n",
       "\n",
       "       [[56.94008801, 43.92719126, 52.27150973],\n",
       "        [56.93425439, 43.93142441, 52.26200177],\n",
       "        [53.03695252, 47.54745738, 51.3912356 ],\n",
       "        ...,\n",
       "        [60.96473058, 47.7803234 , 56.32964607],\n",
       "        [60.96683965, 47.78289807, 56.32992705],\n",
       "        [60.96914836, 47.78777699, 56.32461382]]])"
      ]
     },
     "execution_count": 8,
     "metadata": {},
     "output_type": "execute_result"
    }
   ],
   "source": [
    "particles.population_scores"
   ]
  }
 ],
 "metadata": {
  "kernelspec": {
   "display_name": "Python 3",
   "language": "python",
   "name": "python3"
  },
  "language_info": {
   "codemirror_mode": {
    "name": "ipython",
    "version": 3
   },
   "file_extension": ".py",
   "mimetype": "text/x-python",
   "name": "python",
   "nbconvert_exporter": "python",
   "pygments_lexer": "ipython3",
   "version": "3.7.6"
  }
 },
 "nbformat": 4,
 "nbformat_minor": 2
}
